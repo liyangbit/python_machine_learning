{
 "cells": [
  {
   "cell_type": "markdown",
   "metadata": {
    "toc": "true"
   },
   "source": [
    "# Table of Contents\n",
    " <p>"
   ]
  },
  {
   "cell_type": "code",
   "execution_count": 2,
   "metadata": {
    "collapsed": true
   },
   "outputs": [],
   "source": [
    "import matplotlib.pyplot as plt\n",
    "import numpy as np\n",
    "%matplotlib inline"
   ]
  },
  {
   "cell_type": "code",
   "execution_count": 3,
   "metadata": {
    "collapsed": true
   },
   "outputs": [],
   "source": [
    "# common plot formatting for below\n",
    "def format_plot(ax, title):\n",
    "    ax.xaxis.set_major_formatter(plt.NullFormatter())\n",
    "    ax.yaxis.set_major_formatter(plt.NullFormatter())\n",
    "    ax.set_xlabel('feature 1', color='gray')\n",
    "    ax.set_ylabel('feature 2', color='gray')\n",
    "    ax.set_title(title, color='gray')"
   ]
  },
  {
   "cell_type": "code",
   "execution_count": 4,
   "metadata": {
    "collapsed": true
   },
   "outputs": [],
   "source": [
    "from sklearn.datasets.samples_generator import make_blobs\n",
    "from sklearn.svm import SVC\n",
    "\n",
    "# create 50 separable points\n",
    "X, y = make_blobs(n_samples=50, centers=2,\n",
    "                  random_state=0, cluster_std=0.60)\n",
    "\n",
    "# fit the support vector classifier model\n",
    "clf = SVC(kernel='linear')\n",
    "clf.fit(X, y)\n",
    "\n",
    "# create some new points to predict\n",
    "X2, _ = make_blobs(n_samples=80, centers=2,\n",
    "                   random_state=0, cluster_std=0.80)\n",
    "X2 = X2[50:]\n",
    "\n",
    "# predict the labels\n",
    "y2 = clf.predict(X2)"
   ]
  },
  {
   "cell_type": "code",
   "execution_count": 5,
   "metadata": {
    "collapsed": false
   },
   "outputs": [
    {
     "data": {
      "text/plain": [
       "(50, 2)"
      ]
     },
     "execution_count": 5,
     "metadata": {},
     "output_type": "execute_result"
    }
   ],
   "source": [
    "np.shape(X)"
   ]
  },
  {
   "cell_type": "code",
   "execution_count": 6,
   "metadata": {
    "collapsed": false
   },
   "outputs": [
    {
     "data": {
      "text/plain": [
       "array([1, 1, 0, 0, 1, 1, 1, 1, 1, 0, 0, 0, 0, 1, 0, 0, 0, 1, 0, 0, 1, 1, 1,\n",
       "       1, 1, 0, 0, 0, 1, 0, 1, 0, 0, 0, 0, 1, 1, 0, 1, 0, 1, 0, 1, 1, 0, 1,\n",
       "       1, 0, 1, 0])"
      ]
     },
     "execution_count": 6,
     "metadata": {},
     "output_type": "execute_result"
    }
   ],
   "source": [
    "y"
   ]
  },
  {
   "cell_type": "code",
   "execution_count": 7,
   "metadata": {
    "collapsed": false,
    "scrolled": false
   },
   "outputs": [
    {
     "data": {
      "text/plain": [
       "array([[ 1.51580139,  0.92312811],\n",
       "       [ 1.58510026,  4.40112734],\n",
       "       [ 0.13742771,  3.16777298],\n",
       "       [ 0.56854833,  3.95332789],\n",
       "       [ 1.70714468,  2.37707464],\n",
       "       [-0.3148482 ,  4.1335951 ],\n",
       "       [ 0.26604148,  2.71915015],\n",
       "       [ 1.19866542,  1.74122504],\n",
       "       [ 0.86226145,  1.24917702],\n",
       "       [ 0.9537243 ,  4.64645282],\n",
       "       [ 1.9765055 ,  0.36688103],\n",
       "       [ 0.43830172,  4.0161448 ],\n",
       "       [ 1.01287689,  4.15404025],\n",
       "       [ 1.65684156,  2.4412893 ],\n",
       "       [ 1.84086482,  1.53962878],\n",
       "       [ 2.81480417,  0.96770465],\n",
       "       [ 1.10022802,  4.60631734],\n",
       "       [-0.38874607,  5.86440764],\n",
       "       [ 0.25043139,  4.34534364],\n",
       "       [ 2.8130691 ,  0.77365559],\n",
       "       [-1.06612177,  4.8266822 ],\n",
       "       [ 1.72437234,  0.29969981],\n",
       "       [ 2.37207289,  0.02321445],\n",
       "       [ 1.1372926 ,  0.54740762],\n",
       "       [ 0.56762597,  3.35928158],\n",
       "       [ 0.27963236,  3.8407076 ],\n",
       "       [ 1.96050262,  5.26569121],\n",
       "       [ 1.43933466,  1.32906301],\n",
       "       [ 2.47031647,  3.52196502],\n",
       "       [ 2.35640795,  0.01814303]])"
      ]
     },
     "execution_count": 7,
     "metadata": {},
     "output_type": "execute_result"
    }
   ],
   "source": [
    "X2"
   ]
  },
  {
   "cell_type": "code",
   "execution_count": 8,
   "metadata": {
    "collapsed": false
   },
   "outputs": [
    {
     "data": {
      "image/png": "[encoded data removed]",
      "text/plain": [
       "<matplotlib.figure.Figure at 0x9d85358>"
      ]
     },
     "metadata": {},
     "output_type": "display_data"
    }
   ],
   "source": [
    "# plot the data\n",
    "fig, ax = plt.subplots(figsize=(8, 6))\n",
    "point_style = dict(cmap='Paired', s=50)\n",
    "ax.scatter(X[:, 0], X[:, 1], c=y, **point_style)\n",
    "\n",
    "# format plot\n",
    "format_plot(ax, 'Input Data')\n",
    "ax.axis([-1, 4, -2, 7])\n",
    "\n",
    "fig.savefig('05.01-classification-1.png')"
   ]
  },
  {
   "cell_type": "code",
   "execution_count": 9,
   "metadata": {
    "collapsed": false
   },
   "outputs": [
    {
     "data": {
      "text/plain": [
       "{'cmap': 'Paired', 's': 50}"
      ]
     },
     "execution_count": 9,
     "metadata": {},
     "output_type": "execute_result"
    }
   ],
   "source": [
    "point_style"
   ]
  },
  {
   "cell_type": "code",
   "execution_count": 10,
   "metadata": {
    "collapsed": false
   },
   "outputs": [
    {
     "name": "stdout",
     "output_type": "stream",
     "text": [
      "(0, 3)\n",
      "(1, 4)\n",
      "(2, 5)\n"
     ]
    }
   ],
   "source": [
    "a = [0,1,2]\n",
    "b = [3,4,5]\n",
    "c = zip(a,b)\n",
    "for i in c:\n",
    "    print(i)"
   ]
  },
  {
   "cell_type": "code",
   "execution_count": 11,
   "metadata": {
    "collapsed": false
   },
   "outputs": [
    {
     "data": {
      "image/png": "[encoded data removed]",
      "text/plain": [
       "<matplotlib.figure.Figure at 0x9f58a20>"
      ]
     },
     "metadata": {},
     "output_type": "display_data"
    }
   ],
   "source": [
    "# Get contours describing the model\n",
    "xx = np.linspace(-1, 4, 10)\n",
    "yy = np.linspace(-2, 7, 10)\n",
    "xy1, xy2 = np.meshgrid(xx, yy)\n",
    "Z = np.array([clf.decision_function([t])\n",
    "              for t in zip(xy1.flat, xy2.flat)]).reshape(xy1.shape)\n",
    "\n",
    "# plot points and model\n",
    "fig, ax = plt.subplots(figsize=(8, 6))\n",
    "line_style = dict(levels = [-1.0, 0.0, 1.0],\n",
    "                  linestyles = ['dashed', 'solid', 'dashed'],\n",
    "                  colors = 'gray', linewidths=1)\n",
    "ax.scatter(X[:, 0], X[:, 1], c=y, **point_style)\n",
    "ax.contour(xy1, xy2, Z, **line_style)\n",
    "\n",
    "# format plot\n",
    "format_plot(ax, 'Model Learned from Input Data')\n",
    "ax.axis([-1, 4, -2, 7])\n",
    "\n",
    "fig.savefig('05.01-classification-2.png')"
   ]
  },
  {
   "cell_type": "code",
   "execution_count": 24,
   "metadata": {
    "collapsed": false
   },
   "outputs": [
    {
     "data": {
      "image/png": "[encoded data removed]",
      "text/plain": [
       "<matplotlib.figure.Figure at 0xa122be0>"
      ]
     },
     "metadata": {},
     "output_type": "display_data"
    }
   ],
   "source": [
    "# Get contours describing the model\n",
    "xx = np.linspace(-1, 4, 10)\n",
    "yy = np.linspace(-2, 7, 10)\n",
    "xy1, xy2 = np.meshgrid(xx, yy)\n",
    "Z = np.array([clf.decision_function([t])\n",
    "              for t in zip(xy1.flat, xy2.flat)]).reshape(xy1.shape)\n",
    "\n",
    "# plot points and model\n",
    "fig, ax = plt.subplots(figsize=(8, 6))\n",
    "# line_style = dict(levels = [-1.0, 0.0, 1.0],\n",
    "#                   linestyles = ['dashed', 'solid', 'dashed'],\n",
    "#                   colors = 'gray', linewidths=1)\n",
    "\n",
    "ax.contourf(xy1, xy2, Z)\n",
    "ax.contour(xy1, xy2, Z, levels=[-1,0,1], colors='black')\n",
    "ax.scatter(X[:, 0], X[:, 1], c=y, **point_style)\n",
    "\n",
    "# format plot\n",
    "format_plot(ax, 'Model Learned from Input Data')\n",
    "ax.axis([-1, 4, -2, 7])\n",
    "\n",
    "plt.show()"
   ]
  },
  {
   "cell_type": "code",
   "execution_count": 12,
   "metadata": {
    "collapsed": false,
    "scrolled": true
   },
   "outputs": [
    {
     "name": "stdout",
     "output_type": "stream",
     "text": [
      "(-1.0, -2.0)\n",
      "(-0.44444444444444442, -2.0)\n",
      "(0.11111111111111116, -2.0)\n",
      "(0.66666666666666674, -2.0)\n",
      "(1.2222222222222223, -2.0)\n",
      "(1.7777777777777777, -2.0)\n",
      "(2.3333333333333335, -2.0)\n",
      "(2.8888888888888893, -2.0)\n",
      "(3.4444444444444446, -2.0)\n",
      "(4.0, -2.0)\n",
      "(-1.0, -1.0)\n",
      "(-0.44444444444444442, -1.0)\n",
      "(0.11111111111111116, -1.0)\n",
      "(0.66666666666666674, -1.0)\n",
      "(1.2222222222222223, -1.0)\n",
      "(1.7777777777777777, -1.0)\n",
      "(2.3333333333333335, -1.0)\n",
      "(2.8888888888888893, -1.0)\n",
      "(3.4444444444444446, -1.0)\n",
      "(4.0, -1.0)\n",
      "(-1.0, 0.0)\n",
      "(-0.44444444444444442, 0.0)\n",
      "(0.11111111111111116, 0.0)\n",
      "(0.66666666666666674, 0.0)\n",
      "(1.2222222222222223, 0.0)\n",
      "(1.7777777777777777, 0.0)\n",
      "(2.3333333333333335, 0.0)\n",
      "(2.8888888888888893, 0.0)\n",
      "(3.4444444444444446, 0.0)\n",
      "(4.0, 0.0)\n",
      "(-1.0, 1.0)\n",
      "(-0.44444444444444442, 1.0)\n",
      "(0.11111111111111116, 1.0)\n",
      "(0.66666666666666674, 1.0)\n",
      "(1.2222222222222223, 1.0)\n",
      "(1.7777777777777777, 1.0)\n",
      "(2.3333333333333335, 1.0)\n",
      "(2.8888888888888893, 1.0)\n",
      "(3.4444444444444446, 1.0)\n",
      "(4.0, 1.0)\n",
      "(-1.0, 2.0)\n",
      "(-0.44444444444444442, 2.0)\n",
      "(0.11111111111111116, 2.0)\n",
      "(0.66666666666666674, 2.0)\n",
      "(1.2222222222222223, 2.0)\n",
      "(1.7777777777777777, 2.0)\n",
      "(2.3333333333333335, 2.0)\n",
      "(2.8888888888888893, 2.0)\n",
      "(3.4444444444444446, 2.0)\n",
      "(4.0, 2.0)\n",
      "(-1.0, 3.0)\n",
      "(-0.44444444444444442, 3.0)\n",
      "(0.11111111111111116, 3.0)\n",
      "(0.66666666666666674, 3.0)\n",
      "(1.2222222222222223, 3.0)\n",
      "(1.7777777777777777, 3.0)\n",
      "(2.3333333333333335, 3.0)\n",
      "(2.8888888888888893, 3.0)\n",
      "(3.4444444444444446, 3.0)\n",
      "(4.0, 3.0)\n",
      "(-1.0, 4.0)\n",
      "(-0.44444444444444442, 4.0)\n",
      "(0.11111111111111116, 4.0)\n",
      "(0.66666666666666674, 4.0)\n",
      "(1.2222222222222223, 4.0)\n",
      "(1.7777777777777777, 4.0)\n",
      "(2.3333333333333335, 4.0)\n",
      "(2.8888888888888893, 4.0)\n",
      "(3.4444444444444446, 4.0)\n",
      "(4.0, 4.0)\n",
      "(-1.0, 5.0)\n",
      "(-0.44444444444444442, 5.0)\n",
      "(0.11111111111111116, 5.0)\n",
      "(0.66666666666666674, 5.0)\n",
      "(1.2222222222222223, 5.0)\n",
      "(1.7777777777777777, 5.0)\n",
      "(2.3333333333333335, 5.0)\n",
      "(2.8888888888888893, 5.0)\n",
      "(3.4444444444444446, 5.0)\n",
      "(4.0, 5.0)\n",
      "(-1.0, 6.0)\n",
      "(-0.44444444444444442, 6.0)\n",
      "(0.11111111111111116, 6.0)\n",
      "(0.66666666666666674, 6.0)\n",
      "(1.2222222222222223, 6.0)\n",
      "(1.7777777777777777, 6.0)\n",
      "(2.3333333333333335, 6.0)\n",
      "(2.8888888888888893, 6.0)\n",
      "(3.4444444444444446, 6.0)\n",
      "(4.0, 6.0)\n",
      "(-1.0, 7.0)\n",
      "(-0.44444444444444442, 7.0)\n",
      "(0.11111111111111116, 7.0)\n",
      "(0.66666666666666674, 7.0)\n",
      "(1.2222222222222223, 7.0)\n",
      "(1.7777777777777777, 7.0)\n",
      "(2.3333333333333335, 7.0)\n",
      "(2.8888888888888893, 7.0)\n",
      "(3.4444444444444446, 7.0)\n",
      "(4.0, 7.0)\n"
     ]
    }
   ],
   "source": [
    "a1 = zip(xy1.flat, xy2.flat)\n",
    "\n",
    "for i in a1:\n",
    "    print(i)"
   ]
  },
  {
   "cell_type": "code",
   "execution_count": 13,
   "metadata": {
    "collapsed": false
   },
   "outputs": [
    {
     "name": "stdout",
     "output_type": "stream",
     "text": [
      "(-1.0, -2.0)\n",
      "(-0.44444444444444442, -1.0)\n",
      "(0.11111111111111116, 0.0)\n",
      "(0.66666666666666674, 1.0)\n",
      "(1.2222222222222223, 2.0)\n",
      "(1.7777777777777777, 3.0)\n",
      "(2.3333333333333335, 4.0)\n",
      "(2.8888888888888893, 5.0)\n",
      "(3.4444444444444446, 6.0)\n",
      "(4.0, 7.0)\n"
     ]
    }
   ],
   "source": [
    "a2 = zip(xx, yy)\n",
    "\n",
    "for i in a2:\n",
    "    print(i)"
   ]
  },
  {
   "cell_type": "code",
   "execution_count": 14,
   "metadata": {
    "collapsed": false
   },
   "outputs": [
    {
     "data": {
      "text/plain": [
       "array([[-1.        , -0.44444444,  0.11111111,  0.66666667,  1.22222222,\n",
       "         1.77777778,  2.33333333,  2.88888889,  3.44444444,  4.        ],\n",
       "       [-1.        , -0.44444444,  0.11111111,  0.66666667,  1.22222222,\n",
       "         1.77777778,  2.33333333,  2.88888889,  3.44444444,  4.        ],\n",
       "       [-1.        , -0.44444444,  0.11111111,  0.66666667,  1.22222222,\n",
       "         1.77777778,  2.33333333,  2.88888889,  3.44444444,  4.        ],\n",
       "       [-1.        , -0.44444444,  0.11111111,  0.66666667,  1.22222222,\n",
       "         1.77777778,  2.33333333,  2.88888889,  3.44444444,  4.        ],\n",
       "       [-1.        , -0.44444444,  0.11111111,  0.66666667,  1.22222222,\n",
       "         1.77777778,  2.33333333,  2.88888889,  3.44444444,  4.        ],\n",
       "       [-1.        , -0.44444444,  0.11111111,  0.66666667,  1.22222222,\n",
       "         1.77777778,  2.33333333,  2.88888889,  3.44444444,  4.        ],\n",
       "       [-1.        , -0.44444444,  0.11111111,  0.66666667,  1.22222222,\n",
       "         1.77777778,  2.33333333,  2.88888889,  3.44444444,  4.        ],\n",
       "       [-1.        , -0.44444444,  0.11111111,  0.66666667,  1.22222222,\n",
       "         1.77777778,  2.33333333,  2.88888889,  3.44444444,  4.        ],\n",
       "       [-1.        , -0.44444444,  0.11111111,  0.66666667,  1.22222222,\n",
       "         1.77777778,  2.33333333,  2.88888889,  3.44444444,  4.        ],\n",
       "       [-1.        , -0.44444444,  0.11111111,  0.66666667,  1.22222222,\n",
       "         1.77777778,  2.33333333,  2.88888889,  3.44444444,  4.        ]])"
      ]
     },
     "execution_count": 14,
     "metadata": {},
     "output_type": "execute_result"
    }
   ],
   "source": [
    "xy1"
   ]
  },
  {
   "cell_type": "code",
   "execution_count": 15,
   "metadata": {
    "collapsed": false
   },
   "outputs": [
    {
     "data": {
      "text/plain": [
       "array([[ 5.71520549,  5.84280177,  5.97039804,  6.09799431,  6.22559059,\n",
       "         6.35318686,  6.48078314,  6.60837941,  6.73597569,  6.86357196],\n",
       "       [ 4.33762287,  4.46521914,  4.59281542,  4.72041169,  4.84800796,\n",
       "         4.97560424,  5.10320051,  5.23079679,  5.35839306,  5.48598934],\n",
       "       [ 2.96004024,  3.08763652,  3.21523279,  3.34282907,  3.47042534,\n",
       "         3.59802161,  3.72561789,  3.85321416,  3.98081044,  4.10840671],\n",
       "       [ 1.58245762,  1.71005389,  1.83765017,  1.96524644,  2.09284272,\n",
       "         2.22043899,  2.34803526,  2.47563154,  2.60322781,  2.73082409],\n",
       "       [ 0.20487499,  0.33247127,  0.46006754,  0.58766382,  0.71526009,\n",
       "         0.84285637,  0.97045264,  1.09804891,  1.22564519,  1.35324146],\n",
       "       [-1.17270763, -1.04511135, -0.91751508, -0.78991881, -0.66232253,\n",
       "        -0.53472626, -0.40712998, -0.27953371, -0.15193744, -0.02434116],\n",
       "       [-2.55029025, -2.42269398, -2.2950977 , -2.16750143, -2.03990516,\n",
       "        -1.91230888, -1.78471261, -1.65711633, -1.52952006, -1.40192379],\n",
       "       [-3.92787288, -3.8002766 , -3.67268033, -3.54508405, -3.41748778,\n",
       "        -3.28989151, -3.16229523, -3.03469896, -2.90710268, -2.77950641],\n",
       "       [-5.3054555 , -5.17785923, -5.05026295, -4.92266668, -4.7950704 ,\n",
       "        -4.66747413, -4.53987786, -4.41228158, -4.28468531, -4.15708903],\n",
       "       [-6.68303813, -6.55544185, -6.42784558, -6.3002493 , -6.17265303,\n",
       "        -6.04505675, -5.91746048, -5.78986421, -5.66226793, -5.53467166]])"
      ]
     },
     "execution_count": 15,
     "metadata": {},
     "output_type": "execute_result"
    }
   ],
   "source": [
    "Z"
   ]
  },
  {
   "cell_type": "code",
   "execution_count": 16,
   "metadata": {
    "collapsed": false
   },
   "outputs": [
    {
     "data": {
      "text/plain": [
       "array([ 5.71520549])"
      ]
     },
     "execution_count": 16,
     "metadata": {},
     "output_type": "execute_result"
    }
   ],
   "source": [
    "clf.decision_function([(-1.0, -2.0)])"
   ]
  },
  {
   "cell_type": "code",
   "execution_count": 17,
   "metadata": {
    "collapsed": false
   },
   "outputs": [
    {
     "name": "stdout",
     "output_type": "stream",
     "text": [
      "(-1.0, -2.0)\n",
      "(-0.44444444444444442, -2.0)\n",
      "(0.11111111111111116, -2.0)\n",
      "(0.66666666666666674, -2.0)\n",
      "(1.2222222222222223, -2.0)\n",
      "(1.7777777777777777, -2.0)\n",
      "(2.3333333333333335, -2.0)\n",
      "(2.8888888888888893, -2.0)\n",
      "(3.4444444444444446, -2.0)\n",
      "(4.0, -2.0)\n",
      "(-1.0, -1.0)\n",
      "(-0.44444444444444442, -1.0)\n",
      "(0.11111111111111116, -1.0)\n",
      "(0.66666666666666674, -1.0)\n",
      "(1.2222222222222223, -1.0)\n",
      "(1.7777777777777777, -1.0)\n",
      "(2.3333333333333335, -1.0)\n",
      "(2.8888888888888893, -1.0)\n",
      "(3.4444444444444446, -1.0)\n",
      "(4.0, -1.0)\n",
      "(-1.0, 0.0)\n",
      "(-0.44444444444444442, 0.0)\n",
      "(0.11111111111111116, 0.0)\n",
      "(0.66666666666666674, 0.0)\n",
      "(1.2222222222222223, 0.0)\n",
      "(1.7777777777777777, 0.0)\n",
      "(2.3333333333333335, 0.0)\n",
      "(2.8888888888888893, 0.0)\n",
      "(3.4444444444444446, 0.0)\n",
      "(4.0, 0.0)\n",
      "(-1.0, 1.0)\n",
      "(-0.44444444444444442, 1.0)\n",
      "(0.11111111111111116, 1.0)\n",
      "(0.66666666666666674, 1.0)\n",
      "(1.2222222222222223, 1.0)\n",
      "(1.7777777777777777, 1.0)\n",
      "(2.3333333333333335, 1.0)\n",
      "(2.8888888888888893, 1.0)\n",
      "(3.4444444444444446, 1.0)\n",
      "(4.0, 1.0)\n",
      "(-1.0, 2.0)\n",
      "(-0.44444444444444442, 2.0)\n",
      "(0.11111111111111116, 2.0)\n",
      "(0.66666666666666674, 2.0)\n",
      "(1.2222222222222223, 2.0)\n",
      "(1.7777777777777777, 2.0)\n",
      "(2.3333333333333335, 2.0)\n",
      "(2.8888888888888893, 2.0)\n",
      "(3.4444444444444446, 2.0)\n",
      "(4.0, 2.0)\n",
      "(-1.0, 3.0)\n",
      "(-0.44444444444444442, 3.0)\n",
      "(0.11111111111111116, 3.0)\n",
      "(0.66666666666666674, 3.0)\n",
      "(1.2222222222222223, 3.0)\n",
      "(1.7777777777777777, 3.0)\n",
      "(2.3333333333333335, 3.0)\n",
      "(2.8888888888888893, 3.0)\n",
      "(3.4444444444444446, 3.0)\n",
      "(4.0, 3.0)\n",
      "(-1.0, 4.0)\n",
      "(-0.44444444444444442, 4.0)\n",
      "(0.11111111111111116, 4.0)\n",
      "(0.66666666666666674, 4.0)\n",
      "(1.2222222222222223, 4.0)\n",
      "(1.7777777777777777, 4.0)\n",
      "(2.3333333333333335, 4.0)\n",
      "(2.8888888888888893, 4.0)\n",
      "(3.4444444444444446, 4.0)\n",
      "(4.0, 4.0)\n",
      "(-1.0, 5.0)\n",
      "(-0.44444444444444442, 5.0)\n",
      "(0.11111111111111116, 5.0)\n",
      "(0.66666666666666674, 5.0)\n",
      "(1.2222222222222223, 5.0)\n",
      "(1.7777777777777777, 5.0)\n",
      "(2.3333333333333335, 5.0)\n",
      "(2.8888888888888893, 5.0)\n",
      "(3.4444444444444446, 5.0)\n",
      "(4.0, 5.0)\n",
      "(-1.0, 6.0)\n",
      "(-0.44444444444444442, 6.0)\n",
      "(0.11111111111111116, 6.0)\n",
      "(0.66666666666666674, 6.0)\n",
      "(1.2222222222222223, 6.0)\n",
      "(1.7777777777777777, 6.0)\n",
      "(2.3333333333333335, 6.0)\n",
      "(2.8888888888888893, 6.0)\n",
      "(3.4444444444444446, 6.0)\n",
      "(4.0, 6.0)\n",
      "(-1.0, 7.0)\n",
      "(-0.44444444444444442, 7.0)\n",
      "(0.11111111111111116, 7.0)\n",
      "(0.66666666666666674, 7.0)\n",
      "(1.2222222222222223, 7.0)\n",
      "(1.7777777777777777, 7.0)\n",
      "(2.3333333333333335, 7.0)\n",
      "(2.8888888888888893, 7.0)\n",
      "(3.4444444444444446, 7.0)\n",
      "(4.0, 7.0)\n"
     ]
    }
   ],
   "source": [
    "for t in zip(xy1.flat, xy2.flat):\n",
    "    print(t)"
   ]
  },
  {
   "cell_type": "code",
   "execution_count": 18,
   "metadata": {
    "collapsed": false
   },
   "outputs": [
    {
     "data": {
      "image/png": "[encoded data removed]",
      "text/plain": [
       "<matplotlib.figure.Figure at 0x9f8da58>"
      ]
     },
     "metadata": {},
     "output_type": "display_data"
    }
   ],
   "source": [
    "# plot the results\n",
    "fig, ax = plt.subplots(1, 2, figsize=(16, 6))\n",
    "fig.subplots_adjust(left=0.0625, right=0.95, wspace=0.1)\n",
    "\n",
    "ax[0].scatter(X2[:, 0], X2[:, 1], c='gray', **point_style)\n",
    "ax[0].axis([-1, 4, -2, 7])\n",
    "\n",
    "ax[1].scatter(X2[:, 0], X2[:, 1], c=y2, **point_style)\n",
    "ax[1].contour(xy1, xy2, Z, **line_style)\n",
    "ax[1].axis([-1, 4, -2, 7])\n",
    "\n",
    "format_plot(ax[0], 'Unknown Data')\n",
    "format_plot(ax[1], 'Predicted Labels')\n",
    "\n",
    "fig.savefig('05.01-classification-3.png')"
   ]
  },
  {
   "cell_type": "code",
   "execution_count": null,
   "metadata": {
    "collapsed": true
   },
   "outputs": [],
   "source": []
  },
  {
   "cell_type": "code",
   "execution_count": null,
   "metadata": {
    "collapsed": true
   },
   "outputs": [],
   "source": []
  }
 ],
 "metadata": {
  "anaconda-cloud": {},
  "kernelspec": {
   "display_name": "Python [conda root]",
   "language": "python",
   "name": "conda-root-py"
  },
  "language_info": {
   "codemirror_mode": {
    "name": "ipython",
    "version": 3
   },
   "file_extension": ".py",
   "mimetype": "text/x-python",
   "name": "python",
   "nbconvert_exporter": "python",
   "pygments_lexer": "ipython3",
   "version": "3.5.2"
  },
  "toc": {
   "colors": {
    "hover_highlight": "#DAA520",
    "navigate_num": "#000000",
    "navigate_text": "#333333",
    "running_highlight": "#FF0000",
    "selected_highlight": "#FFD700",
    "sidebar_border": "#EEEEEE",
    "wrapper_background": "#FFFFFF"
   },
   "moveMenuLeft": true,
   "nav_menu": {
    "height": "12px",
    "width": "252px"
   },
   "navigate_menu": true,
   "number_sections": true,
   "sideBar": true,
   "threshold": 4,
   "toc_cell": true,
   "toc_position": {
    "height": "844px",
    "left": "0px",
    "right": "1708px",
    "top": "106px",
    "width": "212px"
   },
   "toc_section_display": "block",
   "toc_window_display": true,
   "widenNotebook": false
  }
 },
 "nbformat": 4,
 "nbformat_minor": 1
}
